{
 "cells": [
  {
   "cell_type": "markdown",
   "id": "8f4b3c7d-78bb-4783-8d46-380cff2be54b",
   "metadata": {},
   "source": []
  }
 ],
 "metadata": {
  "kernelspec": {
   "display_name": "R",
   "language": "R",
   "name": "ir"
  },
  "language_info": {
   "name": ""
  }
 },
 "nbformat": 4,
 "nbformat_minor": 5
}
